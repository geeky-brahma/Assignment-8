{
 "cells": [
  {
   "cell_type": "markdown",
   "id": "266cd533",
   "metadata": {},
   "source": [
    "1. "
   ]
  },
  {
   "cell_type": "code",
   "execution_count": 3,
   "id": "44dad197",
   "metadata": {},
   "outputs": [],
   "source": [
    "class vehicle:\n",
    "    def __init__(self, name_of_vehicle, max_speed, average_of_vehicle):\n",
    "        self.__name_of_vehicle= name_of_vehicle\n",
    "        self.__max_speed= max_speed\n",
    "        self.__average_of_vehicle= average_of_vehicle\n",
    "        "
   ]
  },
  {
   "cell_type": "code",
   "execution_count": 4,
   "id": "585fb6ee",
   "metadata": {},
   "outputs": [],
   "source": [
    "vehicle_obj1=vehicle(\"Toyota Innova\", 200, 11)"
   ]
  },
  {
   "cell_type": "markdown",
   "id": "bef12d6d",
   "metadata": {},
   "source": [
    "2."
   ]
  },
  {
   "cell_type": "code",
   "execution_count": 7,
   "id": "79e85f80",
   "metadata": {},
   "outputs": [],
   "source": [
    "class car(vehicle):\n",
    "    def seating_capacity(self, capacity):\n",
    "        return __name_of_vehicle, capacity\n",
    "\n",
    "        "
   ]
  },
  {
   "cell_type": "markdown",
   "id": "5f708097",
   "metadata": {},
   "source": [
    "3."
   ]
  },
  {
   "cell_type": "markdown",
   "id": "24852300",
   "metadata": {},
   "source": [
    "Multiple inheritance is a feature of object-oriented programming languages that allows a class to inherit properties and behavior from multiple parent classes."
   ]
  },
  {
   "cell_type": "code",
   "execution_count": 10,
   "id": "faa5d5b8",
   "metadata": {},
   "outputs": [],
   "source": [
    "class class1:\n",
    "    def test_class1(self):\n",
    "        print(\"This is class1\")\n",
    "class class2:\n",
    "    def test_class2(self):\n",
    "        print(\"This is class2\")\n",
    "class class3(class1,class2):\n",
    "    pass"
   ]
  },
  {
   "cell_type": "code",
   "execution_count": 11,
   "id": "b7b53444",
   "metadata": {},
   "outputs": [],
   "source": [
    "obj_class3=class3()"
   ]
  },
  {
   "cell_type": "code",
   "execution_count": 12,
   "id": "7431d094",
   "metadata": {},
   "outputs": [
    {
     "name": "stdout",
     "output_type": "stream",
     "text": [
      "This is class1\n"
     ]
    }
   ],
   "source": [
    "obj_class3.test_class1()"
   ]
  },
  {
   "cell_type": "code",
   "execution_count": 15,
   "id": "146e40e5",
   "metadata": {},
   "outputs": [
    {
     "name": "stdout",
     "output_type": "stream",
     "text": [
      "This is class2\n"
     ]
    }
   ],
   "source": [
    "obj_class3.test_class2()"
   ]
  },
  {
   "cell_type": "markdown",
   "id": "948fab06",
   "metadata": {},
   "source": [
    "4."
   ]
  },
  {
   "cell_type": "markdown",
   "id": "c58dc868",
   "metadata": {},
   "source": [
    "Getters and setters are used to retrieve and update data. A getter retrieves an object's current attribute value, whereas a setter changes an object's attribute value."
   ]
  },
  {
   "cell_type": "code",
   "execution_count": 19,
   "id": "7aebd966",
   "metadata": {},
   "outputs": [],
   "source": [
    "class test:\n",
    "    def __init__(self,mark):\n",
    "        self.__mark=mark\n",
    "    def get_mark(self):\n",
    "        return self.__mark\n",
    "    def set_mark(self, mark):\n",
    "        self.__mark=mark\n"
   ]
  },
  {
   "cell_type": "code",
   "execution_count": 20,
   "id": "b978f2ce",
   "metadata": {},
   "outputs": [],
   "source": [
    "obj_test=test(23)\n"
   ]
  },
  {
   "cell_type": "code",
   "execution_count": 21,
   "id": "7dcbdffb",
   "metadata": {},
   "outputs": [
    {
     "data": {
      "text/plain": [
       "23"
      ]
     },
     "execution_count": 21,
     "metadata": {},
     "output_type": "execute_result"
    }
   ],
   "source": [
    "obj_test.get_mark()   #getter"
   ]
  },
  {
   "cell_type": "code",
   "execution_count": 22,
   "id": "13896f71",
   "metadata": {},
   "outputs": [],
   "source": [
    "obj_test.set_mark(30)  #setter"
   ]
  },
  {
   "cell_type": "code",
   "execution_count": 23,
   "id": "ea908d8b",
   "metadata": {},
   "outputs": [
    {
     "data": {
      "text/plain": [
       "30"
      ]
     },
     "execution_count": 23,
     "metadata": {},
     "output_type": "execute_result"
    }
   ],
   "source": [
    "obj_test.get_mark()"
   ]
  },
  {
   "cell_type": "markdown",
   "id": "4257b920",
   "metadata": {},
   "source": [
    "5. "
   ]
  },
  {
   "cell_type": "markdown",
   "id": "ea9cb8c1",
   "metadata": {},
   "source": [
    "Method overriding is a feature of object-oriented programming languages where the subclass or child class can provide the program with specific characteristics or a specific implementation process of data provided that are already defined in the parent class or superclass.\n",
    "In simple words we can overide the execution of a method created in parent class by creating another method with the same name in the child class."
   ]
  },
  {
   "cell_type": "code",
   "execution_count": 24,
   "id": "14c2dd91",
   "metadata": {},
   "outputs": [],
   "source": [
    "class class1:\n",
    "    def test_class1(self):\n",
    "        print(\"This is class1\")\n",
    "class class2:\n",
    "    def test_class2(self):\n",
    "        print(\"This is class2\")\n",
    "class class3(class1,class2):\n",
    "    def test_class1(self):\n",
    "        return False"
   ]
  },
  {
   "cell_type": "code",
   "execution_count": 26,
   "id": "934c7aa9",
   "metadata": {},
   "outputs": [],
   "source": [
    "obj_class3=class3()"
   ]
  },
  {
   "cell_type": "code",
   "execution_count": 27,
   "id": "3f9c049d",
   "metadata": {},
   "outputs": [
    {
     "data": {
      "text/plain": [
       "False"
      ]
     },
     "execution_count": 27,
     "metadata": {},
     "output_type": "execute_result"
    }
   ],
   "source": [
    "obj_class3.test_class1()"
   ]
  },
  {
   "cell_type": "markdown",
   "id": "1d672c44",
   "metadata": {},
   "source": [
    "Here as we can see the output is as per the excution of the method in the class3 not as per the class1. So here the method test_class1() overides the commands of class1 with commands of class3."
   ]
  }
 ],
 "metadata": {
  "kernelspec": {
   "display_name": "Python 3 (ipykernel)",
   "language": "python",
   "name": "python3"
  },
  "language_info": {
   "codemirror_mode": {
    "name": "ipython",
    "version": 3
   },
   "file_extension": ".py",
   "mimetype": "text/x-python",
   "name": "python",
   "nbconvert_exporter": "python",
   "pygments_lexer": "ipython3",
   "version": "3.9.13"
  }
 },
 "nbformat": 4,
 "nbformat_minor": 5
}
